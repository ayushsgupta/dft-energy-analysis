{
 "cells": [
  {
   "cell_type": "code",
   "execution_count": 32,
   "metadata": {},
   "outputs": [],
   "source": [
    "from pymatgen.analysis.structure_matcher import ElementComparator\n",
    "#sm = StructureMatcher(ltol=0.4, stol=0.6, angle_tol=10, primitive_cell=False, scale=False)\n",
    "# Used in Materials Builder\n",
    "sm = StructureMatcher(\n",
    "                primitive_cell=True,\n",
    "                scale=True,\n",
    "                attempt_supercell=False,\n",
    "                allow_subset=False,\n",
    "                comparator=ElementComparator(),\n",
    "            )\n",
    "# sm = StructureMatcher(angle_tol=7)"
   ]
  },
  {
   "cell_type": "code",
   "execution_count": 33,
   "metadata": {},
   "outputs": [],
   "source": [
    "def sort_and_remove_duplicates(structures):\n",
    "    grouped = sm.group_structures(structures)\n",
    "    deduped = [g[0] for g in grouped]\n",
    "    structures = sorted(deduped, key=lambda s: s.composition.reduced_formula)\n",
    "    return structures"
   ]
  }
 ],
 "metadata": {
  "kernelspec": {
   "display_name": "Python 3",
   "language": "python",
   "name": "python3"
  },
  "language_info": {
   "codemirror_mode": {
    "name": "ipython",
    "version": 3
   },
   "file_extension": ".py",
   "mimetype": "text/x-python",
   "name": "python",
   "nbconvert_exporter": "python",
   "pygments_lexer": "ipython3",
   "version": "3.8.1"
  }
 },
 "nbformat": 4,
 "nbformat_minor": 4
}
