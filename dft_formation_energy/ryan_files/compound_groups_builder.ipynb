{
 "cells": [
  {
   "cell_type": "markdown",
   "metadata": {},
   "source": [
    "# Generate lists of compounds in certain categories"
   ]
  },
  {
   "cell_type": "markdown",
   "metadata": {},
   "source": [
    "This notebook assembles `compound_categories.json`, which contains lists of compounds in different chemical spaces (e.g. Group I halides)"
   ]
  },
  {
   "cell_type": "markdown",
   "metadata": {},
   "source": [
    "---\n",
    "## Header"
   ]
  },
  {
   "cell_type": "markdown",
   "metadata": {},
   "source": [
    "#### Global variables"
   ]
  },
  {
   "cell_type": "code",
   "execution_count": 1,
   "metadata": {},
   "outputs": [],
   "source": [
    "PROJECT = 'SCAN project'"
   ]
  },
  {
   "cell_type": "markdown",
   "metadata": {},
   "source": [
    "#### Imports"
   ]
  },
  {
   "cell_type": "code",
   "execution_count": 2,
   "metadata": {},
   "outputs": [],
   "source": [
    "import os\n",
    "from pathlib import Path\n",
    "import re\n",
    "import numpy as np\n",
    "import xlrd\n",
    "from matplotlib import pyplot as plt"
   ]
  },
  {
   "cell_type": "code",
   "execution_count": 3,
   "metadata": {},
   "outputs": [],
   "source": [
    "from pymatgen.ext.matproj import MPRester, MPRestError\n",
    "from monty.serialization import loadfn, dumpfn\n",
    "from pymatgen import Structure, Composition, Element\n",
    "from pymatgen.analysis.reaction_calculator import ComputedEntry, ComputedReaction\n",
    "from pymatgen.util.plotting import pretty_plot, periodic_table_heatmap\n",
    "from pymatgen.core import periodic_table as pt\n",
    "\n",
    "from scipy.stats import linregress\n",
    "from adjustText import adjust_text\n",
    "from sklearn.metrics import max_error, mean_absolute_error, mean_squared_error"
   ]
  },
  {
   "cell_type": "markdown",
   "metadata": {},
   "source": [
    "#### Settings and utility functions"
   ]
  },
  {
   "cell_type": "code",
   "execution_count": 4,
   "metadata": {},
   "outputs": [],
   "source": [
    "%load_ext autoreload\n",
    "%autoreload 2"
   ]
  },
  {
   "cell_type": "markdown",
   "metadata": {},
   "source": [
    "#### Set Working Directory"
   ]
  },
  {
   "cell_type": "code",
   "execution_count": 5,
   "metadata": {},
   "outputs": [],
   "source": [
    "workdir = Path(re.sub(\"(?<={})[\\w\\W]*\".format(PROJECT), \"\", str(Path.cwd())))\n",
    "os.chdir(workdir)\n",
    "\n",
    "data_dir = workdir / '2_raw data'\n",
    "pipeline_dir = workdir / '3_data analysis' / '2_pipeline'\n",
    "output_dir = workdir / '3_data analysis' / '3_output'"
   ]
  },
  {
   "cell_type": "markdown",
   "metadata": {},
   "source": [
    "---\n",
    "## Main Code"
   ]
  },
  {
   "cell_type": "markdown",
   "metadata": {},
   "source": [
    "### Build lists of element categories"
   ]
  },
  {
   "cell_type": "code",
   "execution_count": 6,
   "metadata": {},
   "outputs": [],
   "source": [
    "els_list = pt._pt_data.keys()\n",
    "\n",
    "alkalis = [e for e in els_list if Element(e).is_alkali]\n",
    "alkalines = [e for e in els_list if Element(e).is_alkaline]\n",
    "chalcogens = [e for e in els_list if Element(e).is_chalcogen]\n",
    "halogens = [e for e in els_list if Element(e).is_halogen]\n",
    "lanthanoids = [e for e in els_list if Element(e).is_lanthanoid]\n",
    "actinoids = [e for e in els_list if Element(e).is_actinoid]\n",
    "metals = [e for e in els_list if Element(e).is_metal]\n",
    "metalloids = [e for e in els_list if Element(e).is_metalloid]\n",
    "noble_gases = [e for e in els_list if Element(e).is_noble_gas]\n",
    "post_transition_metals = [e for e in els_list if Element(e).is_post_transition_metal]\n",
    "rare_earths = [e for e in els_list if Element(e).is_rare_earth_metal]\n",
    "transition_metals = [e for e in els_list if Element(e).is_transition_metal]\n",
    "\n",
    "other_elements = list( set(els_list) - set(alkalis + alkalines + chalcogens + halogens + metals + metalloids + transition_metals + lanthanoids + actinoids +noble_gases))\n",
    "\n",
    "transition_metals_3d = [e for e in transition_metals if Element(e).is_transition_metal and Element(e).row==4]\n",
    "transition_metals_4d = [e for e in transition_metals if Element(e).is_transition_metal and Element(e).row==5]\n",
    "transition_metals_5d = [e for e in transition_metals if Element(e).is_transition_metal and Element(e).row==6]"
   ]
  },
  {
   "cell_type": "markdown",
   "metadata": {},
   "source": [
    "#### Use MPRester to identify all compounds in specific chemical spaces"
   ]
  },
  {
   "cell_type": "code",
   "execution_count": 8,
   "metadata": {},
   "outputs": [],
   "source": [
    "compound_categories = {}\n",
    "\n",
    "def add_compound_category(desc,query):\n",
    "    '''\n",
    "    desc (str): plain english description of the category e.g. 'Group I halides'\n",
    "    query (str): MongoDB query to pass to MPRester\n",
    "    '''   \n",
    "    with MPReste as a:\n",
    "        compound_list = list(set(e.composition.reduced_formula for e in a.get_entries(query)))\n",
    "\n",
    "    compound_categories.update({desc:compound_list})"
   ]
  },
  {
   "cell_type": "code",
   "execution_count": 20,
   "metadata": {},
   "outputs": [
    {
     "data": {
      "application/vnd.jupyter.widget-view+json": {
       "model_id": "346dd87a360e424c9285f81a1f005975",
       "version_major": 2,
       "version_minor": 0
      },
      "text/plain": [
       "HBox(children=(IntProgress(value=0, max=44943), HTML(value='')))"
      ]
     },
     "metadata": {},
     "output_type": "display_data"
    },
    {
     "data": {
      "text/plain": [
       "44930"
      ]
     },
     "execution_count": 20,
     "metadata": {},
     "output_type": "execute_result"
    }
   ],
   "source": [
    "query={\"elements\":{\"$in\":transition_metals, \"$all\": ['O']}}\n",
    "with MPRester(MP_API_KEY) as a:\n",
    "    compound_list = [e.composition.reduced_formula for e in a.get_entries(query)]\n",
    "    \n",
    "len(compound_list)"
   ]
  },
  {
   "cell_type": "code",
   "execution_count": 21,
   "metadata": {},
   "outputs": [
    {
     "data": {
      "text/plain": [
       "28064"
      ]
     },
     "execution_count": 21,
     "metadata": {},
     "output_type": "execute_result"
    }
   ],
   "source": [
    "len(set(compound_list))"
   ]
  },
  {
   "cell_type": "code",
   "execution_count": 15,
   "metadata": {},
   "outputs": [
    {
     "data": {
      "application/vnd.jupyter.widget-view+json": {
       "model_id": "a0f263f3cf8643c6b8e980317ce606b0",
       "version_major": 2,
       "version_minor": 0
      },
      "text/plain": [
       "HBox(children=(IntProgress(value=0, max=6726), HTML(value='')))"
      ]
     },
     "metadata": {},
     "output_type": "display_data"
    },
    {
     "data": {
      "text/plain": [
       "6726"
      ]
     },
     "execution_count": 15,
     "metadata": {},
     "output_type": "execute_result"
    }
   ],
   "source": [
    "query={\"elements\":{\"$in\":transition_metals, \"$all\": ['F']}}\n",
    "with MPRester(MP_API_KEY) as a:\n",
    "    compound_list = [e.composition.reduced_formula for e in a.get_entries(query)]\n",
    "    \n",
    "len(compound_list)"
   ]
  },
  {
   "cell_type": "code",
   "execution_count": 19,
   "metadata": {},
   "outputs": [
    {
     "data": {
      "text/plain": [
       "3726"
      ]
     },
     "execution_count": 19,
     "metadata": {},
     "output_type": "execute_result"
    }
   ],
   "source": [
    "len(set(compound_list))"
   ]
  },
  {
   "cell_type": "markdown",
   "metadata": {},
   "source": [
    "### Group I and II halides, by cation"
   ]
  },
  {
   "cell_type": "code",
   "execution_count": 8,
   "metadata": {},
   "outputs": [],
   "source": [
    "add_compound_category('Li halides',{\"elements\":{\"$in\":halogens, \"$all\": [\"Li\"]}, \"nelements\":{'$in':[2]}})\n",
    "add_compound_category('Na halides',{\"elements\":{\"$in\":halogens, \"$all\": [\"Na\"]}, \"nelements\":{'$in':[2]}})\n",
    "add_compound_category('K halides',{\"elements\":{\"$in\":halogens, \"$all\": [\"K\"]}, \"nelements\":{'$in':[2]}})\n",
    "add_compound_category('Rb halides',{\"elements\":{\"$in\":halogens, \"$all\": [\"Rb\"]}, \"nelements\":{'$in':[2]}})\n",
    "add_compound_category('Cs halides',{\"elements\":{\"$in\":halogens, \"$all\": [\"Cs\"]}, \"nelements\":{'$in':[2]}})\n",
    "\n",
    "add_compound_category('Be halides',{\"elements\":{\"$in\":halogens, \"$all\": [\"Be\"]}, \"nelements\":{'$in':[2]}})\n",
    "add_compound_category('Mg halides',{\"elements\":{\"$in\":halogens, \"$all\": [\"Mg\"]}, \"nelements\":{'$in':[2]}})\n",
    "add_compound_category('Ca halides',{\"elements\":{\"$in\":halogens, \"$all\": [\"Ca\"]}, \"nelements\":{'$in':[2]}})\n",
    "add_compound_category('Sr halides',{\"elements\":{\"$in\":halogens, \"$all\": [\"Sr\"]}, \"nelements\":{'$in':[2]}})\n",
    "add_compound_category('Ba halides',{\"elements\":{\"$in\":halogens, \"$all\": [\"Ba\"]}, \"nelements\":{'$in':[2]}})"
   ]
  },
  {
   "cell_type": "code",
   "execution_count": 9,
   "metadata": {},
   "outputs": [],
   "source": [
    "add_compound_category('Li chalcogenides',{\"elements\":{\"$in\":chalcogens, \"$all\": [\"Li\"]}, \"nelements\":{'$in':[2]}})\n",
    "add_compound_category('Na chalcogenides',{\"elements\":{\"$in\":chalcogens, \"$all\": [\"Na\"]}, \"nelements\":{'$in':[2]}})\n",
    "add_compound_category('K chalcogenides',{\"elements\":{\"$in\":chalcogens, \"$all\": [\"K\"]}, \"nelements\":{'$in':[2]}})\n",
    "add_compound_category('Rb chalcogenides',{\"elements\":{\"$in\":chalcogens, \"$all\": [\"Rb\"]}, \"nelements\":{'$in':[2]}})\n",
    "add_compound_category('Cs chalcogenides',{\"elements\":{\"$in\":chalcogens, \"$all\": [\"Cs\"]}, \"nelements\":{'$in':[2]}})\n",
    "\n",
    "add_compound_category('Be chalcogenides',{\"elements\":{\"$in\":chalcogens, \"$all\": [\"Be\"]}, \"nelements\":{'$in':[2]}})\n",
    "add_compound_category('Mg chalcogenides',{\"elements\":{\"$in\":chalcogens, \"$all\": [\"Mg\"]}, \"nelements\":{'$in':[2]}})\n",
    "add_compound_category('Ca chalcogenides',{\"elements\":{\"$in\":chalcogens, \"$all\": [\"Ca\"]}, \"nelements\":{'$in':[2]}})\n",
    "add_compound_category('Sr chalcogenides',{\"elements\":{\"$in\":chalcogens, \"$all\": [\"Sr\"]}, \"nelements\":{'$in':[2]}})\n",
    "add_compound_category('Ba chalcogenides',{\"elements\":{\"$in\":chalcogens, \"$all\": [\"Ba\"]}, \"nelements\":{'$in':[2]}})"
   ]
  },
  {
   "cell_type": "markdown",
   "metadata": {},
   "source": [
    "### Group I and II halides and chalcogens, by anion"
   ]
  },
  {
   "cell_type": "code",
   "execution_count": 10,
   "metadata": {},
   "outputs": [],
   "source": [
    "add_compound_category('Group I chlorides',{\"elements\":{\"$in\":alkalis, \"$all\": [\"Cl\"]}, \"nelements\":{'$in':[2]}})\n",
    "add_compound_category('Group II chlorides',{\"elements\":{\"$in\":alkalines, \"$all\": [\"Cl\"]}, \"nelements\":{'$in':[2]}})\n",
    "\n",
    "add_compound_category('Group I bromides',{\"elements\":{\"$in\":alkalis, \"$all\": [\"Br\"]}, \"nelements\":{'$in':[2]}})\n",
    "add_compound_category('Group II bromides',{\"elements\":{\"$in\":alkalines, \"$all\": [\"Br\"]}, \"nelements\":{'$in':[2]}})\n",
    "\n",
    "add_compound_category('Group I iodides',{\"elements\":{\"$in\":alkalis, \"$all\": [\"I\"]}, \"nelements\":{'$in':[2]}})\n",
    "add_compound_category('Group II iodides',{\"elements\":{\"$in\":alkalines, \"$all\": [\"I\"]}, \"nelements\":{'$in':[2]}})\n",
    "\n",
    "add_compound_category('Group I fluorides',{\"elements\":{\"$in\":alkalis, \"$all\": [\"F\"]}, \"nelements\":{'$in':[2]}})\n",
    "add_compound_category('Group II fluorides',{\"elements\":{\"$in\":alkalines, \"$all\": [\"F\"]}, \"nelements\":{'$in':[2]}})\n",
    "\n",
    "add_compound_category('Group I oxides',{\"elements\":{\"$in\":alkalis, \"$all\": [\"O\"]}, \"nelements\":{'$in':[2]}})\n",
    "add_compound_category('Group II oxides',{\"elements\":{\"$in\":alkalines, \"$all\": [\"O\"]}, \"nelements\":{'$in':[2]}})\n",
    "\n",
    "add_compound_category('Group I sulfides',{\"elements\":{\"$in\":alkalis, \"$all\": [\"S\"]}, \"nelements\":{'$in':[2]}})\n",
    "add_compound_category('Group II sulfides',{\"elements\":{\"$in\":alkalines, \"$all\": [\"S\"]}, \"nelements\":{'$in':[2]}})\n",
    "\n",
    "add_compound_category('Group I selenides',{\"elements\":{\"$in\":alkalis, \"$all\": [\"Se\"]}, \"nelements\":{'$in':[2]}})\n",
    "add_compound_category('Group II selenides',{\"elements\":{\"$in\":alkalines, \"$all\": [\"Se\"]}, \"nelements\":{'$in':[2]}})\n",
    "\n",
    "add_compound_category('Group I tellurides',{\"elements\":{\"$in\":alkalis, \"$all\": [\"Te\"]}, \"nelements\":{'$in':[2]}})\n",
    "add_compound_category('Group II tellurides',{\"elements\":{\"$in\":alkalines, \"$all\": [\"Te\"]}, \"nelements\":{'$in':[2]}})"
   ]
  },
  {
   "cell_type": "markdown",
   "metadata": {},
   "source": [
    "### Group I and II P, N, and H compounds"
   ]
  },
  {
   "cell_type": "code",
   "execution_count": 11,
   "metadata": {},
   "outputs": [],
   "source": [
    "add_compound_category('Group I hydrides',{\"elements\":{\"$in\":alkalis, \"$all\": [\"H\"]}, \"nelements\":{'$in':[2]}})\n",
    "add_compound_category('Group II hydrides',{\"elements\":{\"$in\":alkalines, \"$all\": [\"H\"]}, \"nelements\":{'$in':[2]}})\n",
    "\n",
    "add_compound_category('Group I phosphides',{\"elements\":{\"$in\":alkalis, \"$all\": [\"P\"]}, \"nelements\":{'$in':[2]}})\n",
    "add_compound_category('Group II phosphides',{\"elements\":{\"$in\":alkalines, \"$all\": [\"P\"]}, \"nelements\":{'$in':[2]}})\n",
    "\n",
    "add_compound_category('Group I nitrides',{\"elements\":{\"$in\":alkalis, \"$all\": [\"N\"]}, \"nelements\":{'$in':[2]}})\n",
    "add_compound_category('Group II nitrides',{\"elements\":{\"$in\":alkalines, \"$all\": [\"N\"]}, \"nelements\":{'$in':[2]}})"
   ]
  },
  {
   "cell_type": "markdown",
   "metadata": {},
   "source": [
    "### Main group (non-transition metal) compounds"
   ]
  },
  {
   "cell_type": "code",
   "execution_count": 12,
   "metadata": {},
   "outputs": [
    {
     "data": {
      "application/vnd.jupyter.widget-view+json": {
       "model_id": "a9e441a55ddd43238323844c5bfcb210",
       "version_major": 2,
       "version_minor": 0
      },
      "text/plain": [
       "HBox(children=(IntProgress(value=0, max=4896), HTML(value='')))"
      ]
     },
     "metadata": {},
     "output_type": "display_data"
    },
    {
     "data": {
      "application/vnd.jupyter.widget-view+json": {
       "model_id": "9d03ff3ac74a47d49b2b91900098aaa6",
       "version_major": 2,
       "version_minor": 0
      },
      "text/plain": [
       "HBox(children=(IntProgress(value=0, max=9106), HTML(value='')))"
      ]
     },
     "metadata": {},
     "output_type": "display_data"
    }
   ],
   "source": [
    "main_group = list(set(alkalis + alkalines + chalcogens + halogens + metals + metalloids + other_elements) - set(transition_metals) - set(lanthanoids) - set(actinoids))\n",
    "\n",
    "## matches compounds that contain ONLY elements in the list\n",
    "add_compound_category('main group binaries',{'$nor': [{'elements': {'$elemMatch': {'$nin': main_group}}}],\"nelements\":{'$in':[2]}})\n",
    "add_compound_category('main group ternaries',{'$nor': [{'elements': {'$elemMatch': {'$nin': main_group}}}],\"nelements\":{'$in':[3]}})"
   ]
  },
  {
   "cell_type": "code",
   "execution_count": 13,
   "metadata": {},
   "outputs": [
    {
     "data": {
      "text/plain": [
       "False"
      ]
     },
     "execution_count": 13,
     "metadata": {},
     "output_type": "execute_result"
    }
   ],
   "source": [
    "'Fe' in main_group"
   ]
  },
  {
   "cell_type": "markdown",
   "metadata": {},
   "source": [
    "### Main Group group compounds, by anion"
   ]
  },
  {
   "cell_type": "code",
   "execution_count": 14,
   "metadata": {},
   "outputs": [
    {
     "data": {
      "application/vnd.jupyter.widget-view+json": {
       "model_id": "df47cabeb70b429984789786a36607b2",
       "version_major": 2,
       "version_minor": 0
      },
      "text/plain": [
       "HBox(children=(IntProgress(value=0, max=5200), HTML(value='')))"
      ]
     },
     "metadata": {},
     "output_type": "display_data"
    },
    {
     "data": {
      "application/vnd.jupyter.widget-view+json": {
       "model_id": "3d980796e8b848df90fc7db07b7787f6",
       "version_major": 2,
       "version_minor": 0
      },
      "text/plain": [
       "HBox(children=(IntProgress(value=0, max=1004), HTML(value='')))"
      ]
     },
     "metadata": {},
     "output_type": "display_data"
    },
    {
     "data": {
      "application/vnd.jupyter.widget-view+json": {
       "model_id": "3e7fa920f2d842c29264fc545b2bb448",
       "version_major": 2,
       "version_minor": 0
      },
      "text/plain": [
       "HBox(children=(IntProgress(value=0, max=1297), HTML(value='')))"
      ]
     },
     "metadata": {},
     "output_type": "display_data"
    },
    {
     "data": {
      "application/vnd.jupyter.widget-view+json": {
       "model_id": "4f4fac2f594344fa847175a5e070a9f9",
       "version_major": 2,
       "version_minor": 0
      },
      "text/plain": [
       "HBox(children=(IntProgress(value=0, max=1276), HTML(value='')))"
      ]
     },
     "metadata": {},
     "output_type": "display_data"
    }
   ],
   "source": [
    "add_compound_category('main group binary & ternary oxides',{'$nor': [{'elements': {'$elemMatch': {'$nin': main_group}}}],\"nelements\":{'$in':[2,3]},\"elements\":{\"$all\":[\"O\"]}})\n",
    "add_compound_category('main group binary & ternary phosphides & phosphates',{'$nor': [{'elements': {'$elemMatch': {'$nin': main_group}}}],\"nelements\":{'$in':[2,3]},\"elements\":{\"$all\":[\"P\"]}})\n",
    "add_compound_category('main group binary & ternary sulfides & sulfates',{'$nor': [{'elements': {'$elemMatch': {'$nin': main_group}}}],\"nelements\":{'$in':[2,3]},\"elements\":{\"$all\":[\"S\"]}})\n",
    "add_compound_category('main group binary & ternary nitrides & nitrates',{'$nor': [{'elements': {'$elemMatch': {'$nin': main_group}}}],\"nelements\":{'$in':[2,3]},\"elements\":{\"$all\":[\"N\"]}})"
   ]
  },
  {
   "cell_type": "markdown",
   "metadata": {},
   "source": [
    "### Intermetallics"
   ]
  },
  {
   "cell_type": "code",
   "execution_count": 15,
   "metadata": {},
   "outputs": [
    {
     "data": {
      "application/vnd.jupyter.widget-view+json": {
       "model_id": "20e72bad6e1946bcbe5f8a987f1a242a",
       "version_major": 2,
       "version_minor": 0
      },
      "text/plain": [
       "HBox(children=(IntProgress(value=0, max=507), HTML(value='')))"
      ]
     },
     "metadata": {},
     "output_type": "display_data"
    }
   ],
   "source": [
    "## matches compounds that contain ONLY elements in the list\n",
    "add_compound_category('Intermetallics',{'$nor': [{'elements': {'$elemMatch': {'$nin': post_transition_metals + metalloids}}}],\"nelements\":{'$nin':[1]}})"
   ]
  },
  {
   "cell_type": "markdown",
   "metadata": {},
   "source": [
    "### Noble Gases"
   ]
  },
  {
   "cell_type": "code",
   "execution_count": 16,
   "metadata": {},
   "outputs": [
    {
     "name": "stderr",
     "output_type": "stream",
     "text": [
      "/miniconda3/envs/mp/lib/python3.6/site-packages/pymatgen/core/periodic_table.py:424: UserWarning: No electronegativity for Ar. Setting to NaN. This has no physical meaning, and is mainly done to avoid errors caused by the code expecting a float.\n",
      "  % self.symbol)\n",
      "/miniconda3/envs/mp/lib/python3.6/site-packages/pymatgen/core/periodic_table.py:424: UserWarning: No electronegativity for He. Setting to NaN. This has no physical meaning, and is mainly done to avoid errors caused by the code expecting a float.\n",
      "  % self.symbol)\n",
      "/miniconda3/envs/mp/lib/python3.6/site-packages/pymatgen/core/periodic_table.py:424: UserWarning: No electronegativity for Ne. Setting to NaN. This has no physical meaning, and is mainly done to avoid errors caused by the code expecting a float.\n",
      "  % self.symbol)\n"
     ]
    }
   ],
   "source": [
    "## matches compounds that contain ONLY elements in the list\n",
    "add_compound_category('Noble gases',{'$nor': [{'elements': {'$elemMatch': {'$nin': noble_gases}}}],\"nelements\":{'$in':[1]}})"
   ]
  },
  {
   "cell_type": "markdown",
   "metadata": {},
   "source": [
    "### Polyanions"
   ]
  },
  {
   "cell_type": "code",
   "execution_count": 17,
   "metadata": {},
   "outputs": [
    {
     "data": {
      "application/vnd.jupyter.widget-view+json": {
       "model_id": "c92172af63a24102a943786ed1346598",
       "version_major": 2,
       "version_minor": 0
      },
      "text/plain": [
       "HBox(children=(IntProgress(value=0, max=17124), HTML(value='')))"
      ]
     },
     "metadata": {},
     "output_type": "display_data"
    },
    {
     "data": {
      "application/vnd.jupyter.widget-view+json": {
       "model_id": "11df376de4634d43aaa870f30ced99af",
       "version_major": 2,
       "version_minor": 0
      },
      "text/plain": [
       "HBox(children=(IntProgress(value=0, max=5477), HTML(value='')))"
      ]
     },
     "metadata": {},
     "output_type": "display_data"
    },
    {
     "data": {
      "application/vnd.jupyter.widget-view+json": {
       "model_id": "1803671f8f2c42f49671be66f1741499",
       "version_major": 2,
       "version_minor": 0
      },
      "text/plain": [
       "HBox(children=(IntProgress(value=0, max=42755), HTML(value='')))"
      ]
     },
     "metadata": {},
     "output_type": "display_data"
    }
   ],
   "source": [
    "add_compound_category('Polyanions',{\"elements\":{\"$in\":['Cl','N','P','S'], \"$all\": [\"O\"]}, \"nelements\":{'$nin':[1,2]}})\n",
    "add_compound_category('main group polyanions',{\"elements\":{\"$in\":['Cl','N','P','S'], \"$all\": [\"O\"],\"$nin\": transition_metals}, \"nelements\":{'$nin':[1,2]}})\n",
    "add_compound_category('Transition metal polyanions',{\"elements\":{\"$in\":['Cl','N','P','S'], \"$all\": [\"O\"],\"$in\": transition_metals}, \"nelements\":{'$nin':[1,2]}})"
   ]
  },
  {
   "cell_type": "markdown",
   "metadata": {},
   "source": [
    "### Transition metal oxides, by valence structure"
   ]
  },
  {
   "cell_type": "code",
   "execution_count": 18,
   "metadata": {},
   "outputs": [
    {
     "data": {
      "application/vnd.jupyter.widget-view+json": {
       "model_id": "b847d14356eb417da7d8d3868a9ebf1a",
       "version_major": 2,
       "version_minor": 0
      },
      "text/plain": [
       "HBox(children=(IntProgress(value=0, max=15208), HTML(value='')))"
      ]
     },
     "metadata": {},
     "output_type": "display_data"
    },
    {
     "data": {
      "application/vnd.jupyter.widget-view+json": {
       "model_id": "bc98e502004f4b479bc23f17ec31ac3c",
       "version_major": 2,
       "version_minor": 0
      },
      "text/plain": [
       "HBox(children=(IntProgress(value=0, max=10220), HTML(value='')))"
      ]
     },
     "metadata": {},
     "output_type": "display_data"
    },
    {
     "data": {
      "application/vnd.jupyter.widget-view+json": {
       "model_id": "8dffc5be68f64af29401822b4b5f19d8",
       "version_major": 2,
       "version_minor": 0
      },
      "text/plain": [
       "HBox(children=(IntProgress(value=0, max=3269), HTML(value='')))"
      ]
     },
     "metadata": {},
     "output_type": "display_data"
    },
    {
     "data": {
      "application/vnd.jupyter.widget-view+json": {
       "model_id": "fad6322bbfc54f9e8957541fe134a222",
       "version_major": 2,
       "version_minor": 0
      },
      "text/plain": [
       "HBox(children=(IntProgress(value=0, max=2394), HTML(value='')))"
      ]
     },
     "metadata": {},
     "output_type": "display_data"
    }
   ],
   "source": [
    "add_compound_category('Transition metal binary & ternary oxides',{\"elements\":{\"$in\":transition_metals, \"$all\": ['O']},\"nelements\":{'$in':[2,3]}})\n",
    "add_compound_category('3d binary & ternary oxides',{\"elements\":{\"$in\":transition_metals_3d, \"$all\": ['O']},\"nelements\":{'$in':[2,3]}})\n",
    "add_compound_category('4d binary & ternary oxides',{\"elements\":{\"$in\":transition_metals_4d, \"$all\": ['O']},\"nelements\":{'$in':[2,3]}})\n",
    "add_compound_category('5d binary & ternary oxides',{\"elements\":{\"$in\":transition_metals_5d, \"$all\": ['O']},\"nelements\":{'$in':[2,3]}})"
   ]
  },
  {
   "cell_type": "markdown",
   "metadata": {},
   "source": [
    "### Transition metal compounds, by anion"
   ]
  },
  {
   "cell_type": "code",
   "execution_count": 19,
   "metadata": {},
   "outputs": [
    {
     "data": {
      "application/vnd.jupyter.widget-view+json": {
       "model_id": "e657c7fb159c4b22b291d397683718ca",
       "version_major": 2,
       "version_minor": 0
      },
      "text/plain": [
       "HBox(children=(IntProgress(value=0, max=9576), HTML(value='')))"
      ]
     },
     "metadata": {},
     "output_type": "display_data"
    },
    {
     "data": {
      "application/vnd.jupyter.widget-view+json": {
       "model_id": "de253d7c02324e399d95402781cfcdd9",
       "version_major": 2,
       "version_minor": 0
      },
      "text/plain": [
       "HBox(children=(IntProgress(value=0, max=6298), HTML(value='')))"
      ]
     },
     "metadata": {},
     "output_type": "display_data"
    },
    {
     "data": {
      "application/vnd.jupyter.widget-view+json": {
       "model_id": "e589e961f1914054945ead8fbb881aad",
       "version_major": 2,
       "version_minor": 0
      },
      "text/plain": [
       "HBox(children=(IntProgress(value=0, max=4211), HTML(value='')))"
      ]
     },
     "metadata": {},
     "output_type": "display_data"
    },
    {
     "data": {
      "application/vnd.jupyter.widget-view+json": {
       "model_id": "d7572c581ff14b82b962fea6fb51ca5a",
       "version_major": 2,
       "version_minor": 0
      },
      "text/plain": [
       "HBox(children=(IntProgress(value=0, max=2911), HTML(value='')))"
      ]
     },
     "metadata": {},
     "output_type": "display_data"
    },
    {
     "data": {
      "application/vnd.jupyter.widget-view+json": {
       "model_id": "6a2ead5e2902476dac4913a79912cc9d",
       "version_major": 2,
       "version_minor": 0
      },
      "text/plain": [
       "HBox(children=(IntProgress(value=0, max=1627), HTML(value='')))"
      ]
     },
     "metadata": {},
     "output_type": "display_data"
    },
    {
     "data": {
      "application/vnd.jupyter.widget-view+json": {
       "model_id": "9460d29ae9ac4318b88994fdeef6ee37",
       "version_major": 2,
       "version_minor": 0
      },
      "text/plain": [
       "HBox(children=(IntProgress(value=0, max=1187), HTML(value='')))"
      ]
     },
     "metadata": {},
     "output_type": "display_data"
    }
   ],
   "source": [
    "#add_compound_category('Transition metal oxides',{\"elements\":{\"$in\":transition_metals, \"$all\": [\"O\"]}})\n",
    "add_compound_category('Transition metal phosphides & phosphates',{\"elements\":{\"$in\":transition_metals, \"$all\": [\"P\"]}})\n",
    "add_compound_category('Transition metal sulfides & sulfates',{\"elements\":{\"$in\":transition_metals, \"$all\": [\"S\"]}})\n",
    "add_compound_category('Transition metal nitrides & nitrates',{\"elements\":{\"$in\":transition_metals, \"$all\": [\"N\"]}})\n",
    "\n",
    "add_compound_category('Transition metal binary & ternary sulfides',{\"elements\":{\"$in\":transition_metals, \"$all\": ['S']},\"nelements\":{'$in':[2,3]}})\n",
    "add_compound_category('Transition metal binary & ternary selenides',{\"elements\":{\"$in\":transition_metals, \"$all\": ['Se']},\"nelements\":{'$in':[2,3]}})\n",
    "add_compound_category('Transition metal binary & ternary tellurides',{\"elements\":{\"$in\":transition_metals, \"$all\": ['Te']},\"nelements\":{'$in':[2,3]}})"
   ]
  },
  {
   "cell_type": "code",
   "execution_count": 20,
   "metadata": {},
   "outputs": [
    {
     "data": {
      "application/vnd.jupyter.widget-view+json": {
       "model_id": "68f6adef2c6447a2afd2d9eaac07fc0c",
       "version_major": 2,
       "version_minor": 0
      },
      "text/plain": [
       "HBox(children=(IntProgress(value=0, max=31681), HTML(value='')))"
      ]
     },
     "metadata": {},
     "output_type": "display_data"
    }
   ],
   "source": [
    "add_compound_category('Transition metal binary & ternary chalcogens',{\"elements\":{\"$in\":transition_metals, \"$in\": chalcogens},\"nelements\":{'$in':[2,3]}})"
   ]
  },
  {
   "cell_type": "code",
   "execution_count": 21,
   "metadata": {},
   "outputs": [],
   "source": [
    "dumpfn(compound_categories,Path(pipeline_dir / 'compound_categories.json'))"
   ]
  },
  {
   "cell_type": "code",
   "execution_count": null,
   "metadata": {},
   "outputs": [],
   "source": []
  }
 ],
 "metadata": {
  "kernelspec": {
   "display_name": "Python 3",
   "language": "python",
   "name": "python3"
  },
  "language_info": {
   "codemirror_mode": {
    "name": "ipython",
    "version": 3
   },
   "file_extension": ".py",
   "mimetype": "text/x-python",
   "name": "python",
   "nbconvert_exporter": "python",
   "pygments_lexer": "ipython3",
   "version": "3.8.1"
  }
 },
 "nbformat": 4,
 "nbformat_minor": 4
}
